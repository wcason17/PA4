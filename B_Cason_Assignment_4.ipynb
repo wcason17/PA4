{
 "cells": [
  {
   "cell_type": "markdown",
   "id": "c2986d08",
   "metadata": {},
   "source": [
    "# Billy Cason Assignment 4"
   ]
  },
  {
   "cell_type": "code",
   "execution_count": 2,
   "id": "6c7d4d43",
   "metadata": {},
   "outputs": [
    {
     "data": {
      "text/plain": [
       "[49, 47, 46, 42, 19, 46, 44, 36, 34, 26]"
      ]
     },
     "execution_count": 2,
     "metadata": {},
     "output_type": "execute_result"
    }
   ],
   "source": [
    "#i\n",
    "import random\n",
    "numbers=[random.randrange(1,51) for i in range(10)]\n",
    "numbers"
   ]
  },
  {
   "cell_type": "code",
   "execution_count": 3,
   "id": "35689fad",
   "metadata": {},
   "outputs": [],
   "source": [
    "numbers.append(130) #append allows us to add one item at the end of a list"
   ]
  },
  {
   "cell_type": "code",
   "execution_count": 4,
   "id": "b2b98601",
   "metadata": {},
   "outputs": [
    {
     "data": {
      "text/plain": [
       "[49, 47, 46, 42, 19, 46, 44, 36, 34, 26, 130]"
      ]
     },
     "execution_count": 4,
     "metadata": {},
     "output_type": "execute_result"
    }
   ],
   "source": [
    "numbers"
   ]
  },
  {
   "cell_type": "markdown",
   "id": "3ce15e89",
   "metadata": {},
   "source": [
    "ii) extend(): The extend function allows you to add multiple items to a list-but it must be in list form."
   ]
  },
  {
   "cell_type": "code",
   "execution_count": 5,
   "id": "173755ef",
   "metadata": {},
   "outputs": [
    {
     "data": {
      "text/plain": [
       "[49, 47, 46, 42, 19, 46, 44, 36, 34, 26, 130, 143, 378, 520]"
      ]
     },
     "execution_count": 5,
     "metadata": {},
     "output_type": "execute_result"
    }
   ],
   "source": [
    "numbers.extend([143,378, 520])\n",
    "numbers"
   ]
  },
  {
   "cell_type": "markdown",
   "id": "0360587a",
   "metadata": {},
   "source": [
    "iii) insert(): This function allows us to insert a single item at any spot in a list. It is presented as follows-(location, value)"
   ]
  },
  {
   "cell_type": "code",
   "execution_count": 6,
   "id": "1b4f1574",
   "metadata": {},
   "outputs": [],
   "source": [
    "numbers.insert(6,14)"
   ]
  },
  {
   "cell_type": "code",
   "execution_count": 7,
   "id": "d68eb18f",
   "metadata": {},
   "outputs": [
    {
     "data": {
      "text/plain": [
       "[49, 47, 46, 42, 19, 46, 14, 44, 36, 34, 26, 130, 143, 378, 520]"
      ]
     },
     "execution_count": 7,
     "metadata": {},
     "output_type": "execute_result"
    }
   ],
   "source": [
    "numbers"
   ]
  },
  {
   "cell_type": "markdown",
   "id": "3cdf677b",
   "metadata": {},
   "source": [
    "iv) remove(): This removes a single value from a list if it occurs with in the list. It does however only remove the first occurance of said value."
   ]
  },
  {
   "cell_type": "code",
   "execution_count": 8,
   "id": "7aded4d3",
   "metadata": {},
   "outputs": [],
   "source": [
    "numbers.remove(46)"
   ]
  },
  {
   "cell_type": "code",
   "execution_count": 9,
   "id": "0f85b1a9",
   "metadata": {},
   "outputs": [
    {
     "data": {
      "text/plain": [
       "[49, 47, 42, 19, 46, 14, 44, 36, 34, 26, 130, 143, 378, 520]"
      ]
     },
     "execution_count": 9,
     "metadata": {},
     "output_type": "execute_result"
    }
   ],
   "source": [
    "numbers #see that it only removed the first of the two 46 values"
   ]
  },
  {
   "cell_type": "code",
   "execution_count": 10,
   "id": "5636e306",
   "metadata": {},
   "outputs": [
    {
     "ename": "ValueError",
     "evalue": "list.remove(x): x not in list",
     "output_type": "error",
     "traceback": [
      "\u001b[0;31m---------------------------------------------------------------------------\u001b[0m",
      "\u001b[0;31mValueError\u001b[0m                                Traceback (most recent call last)",
      "\u001b[0;32m<ipython-input-10-9780030c34bf>\u001b[0m in \u001b[0;36m<module>\u001b[0;34m\u001b[0m\n\u001b[0;32m----> 1\u001b[0;31m \u001b[0mnumbers\u001b[0m\u001b[0;34m.\u001b[0m\u001b[0mremove\u001b[0m\u001b[0;34m(\u001b[0m\u001b[0;36m50\u001b[0m\u001b[0;34m)\u001b[0m\u001b[0;34m\u001b[0m\u001b[0;34m\u001b[0m\u001b[0m\n\u001b[0m\u001b[1;32m      2\u001b[0m \u001b[0mnumbers\u001b[0m\u001b[0;34m\u001b[0m\u001b[0;34m\u001b[0m\u001b[0m\n",
      "\u001b[0;31mValueError\u001b[0m: list.remove(x): x not in list"
     ]
    }
   ],
   "source": [
    "numbers.remove(50) #it through an error because 50 does not occur\n",
    "numbers"
   ]
  },
  {
   "cell_type": "code",
   "execution_count": null,
   "id": "c9e935d2",
   "metadata": {},
   "outputs": [],
   "source": []
  },
  {
   "cell_type": "markdown",
   "id": "fe667cb7",
   "metadata": {},
   "source": [
    "v) count(): This returns the amount of times a specific value occurs in a list"
   ]
  },
  {
   "cell_type": "code",
   "execution_count": 11,
   "id": "2c41fdfa",
   "metadata": {},
   "outputs": [],
   "source": [
    "numbers1=[random.randrange(1,51) for i in range(10)]"
   ]
  },
  {
   "cell_type": "code",
   "execution_count": 12,
   "id": "1829d3e9",
   "metadata": {},
   "outputs": [
    {
     "data": {
      "text/plain": [
       "[42, 2, 49, 48, 48, 50, 32, 13, 11, 17]"
      ]
     },
     "execution_count": 12,
     "metadata": {},
     "output_type": "execute_result"
    }
   ],
   "source": [
    "numbers1"
   ]
  },
  {
   "cell_type": "code",
   "execution_count": 13,
   "id": "db17ddfd",
   "metadata": {},
   "outputs": [
    {
     "data": {
      "text/plain": [
       "[42, 2, 49, 48, 48, 50, 32, 13, 11, 17, 48]"
      ]
     },
     "execution_count": 13,
     "metadata": {},
     "output_type": "execute_result"
    }
   ],
   "source": [
    "numbers1.append(48)\n",
    "numbers1"
   ]
  },
  {
   "cell_type": "code",
   "execution_count": 14,
   "id": "eaabd9b3",
   "metadata": {},
   "outputs": [
    {
     "data": {
      "text/plain": [
       "3"
      ]
     },
     "execution_count": 14,
     "metadata": {},
     "output_type": "execute_result"
    }
   ],
   "source": [
    "numbers1.count(48) #this function should return the value 3 because there are 3 48 values in the list"
   ]
  },
  {
   "cell_type": "markdown",
   "id": "14e76b2a",
   "metadata": {},
   "source": [
    "vi) index(): This function returns the location (index) of the item within the list. However if it does not exist it simply gives an error."
   ]
  },
  {
   "cell_type": "code",
   "execution_count": 15,
   "id": "22bab620",
   "metadata": {},
   "outputs": [
    {
     "data": {
      "text/plain": [
       "9"
      ]
     },
     "execution_count": 15,
     "metadata": {},
     "output_type": "execute_result"
    }
   ],
   "source": [
    "numbers1.index(17)"
   ]
  },
  {
   "cell_type": "markdown",
   "id": "bd7e255b",
   "metadata": {},
   "source": [
    "vii) pop(): This function removes a single from the end of the list."
   ]
  },
  {
   "cell_type": "code",
   "execution_count": 16,
   "id": "9bcd7c50",
   "metadata": {},
   "outputs": [
    {
     "data": {
      "text/plain": [
       "[42, 2, 49, 48, 48, 50, 32, 13, 11, 17]"
      ]
     },
     "execution_count": 16,
     "metadata": {},
     "output_type": "execute_result"
    }
   ],
   "source": [
    "numbers1.pop()#this ended up removing the 48 from the back of the list\n",
    "numbers1"
   ]
  },
  {
   "cell_type": "code",
   "execution_count": 17,
   "id": "707ee4d3",
   "metadata": {},
   "outputs": [
    {
     "data": {
      "text/plain": [
       "[49, 47, 42, 19, 46, 14, 44, 36, 34, 26, 130, 143, 378, 520]"
      ]
     },
     "execution_count": 17,
     "metadata": {},
     "output_type": "execute_result"
    }
   ],
   "source": [
    "numbers"
   ]
  },
  {
   "cell_type": "code",
   "execution_count": 18,
   "id": "83e07eb0",
   "metadata": {},
   "outputs": [
    {
     "data": {
      "text/plain": [
       "[49, 47, 42, 19, 46, 14, 44, 36, 34, 26, 130, 143, 378]"
      ]
     },
     "execution_count": 18,
     "metadata": {},
     "output_type": "execute_result"
    }
   ],
   "source": [
    "numbers.pop()\n",
    "numbers"
   ]
  },
  {
   "cell_type": "markdown",
   "id": "8f3bf460",
   "metadata": {},
   "source": [
    "viii) sorted(): This function allows you to sort your list, but use caution. If sort() is used instead of sorted() then your list will be permanently sorted."
   ]
  },
  {
   "cell_type": "code",
   "execution_count": 19,
   "id": "7f70f6f0",
   "metadata": {},
   "outputs": [
    {
     "data": {
      "text/plain": [
       "[2, 11, 13, 17, 32, 42, 48, 48, 49, 50]"
      ]
     },
     "execution_count": 19,
     "metadata": {},
     "output_type": "execute_result"
    }
   ],
   "source": [
    "y=sorted(numbers1)\n",
    "y"
   ]
  },
  {
   "cell_type": "markdown",
   "id": "cba4e17d",
   "metadata": {},
   "source": [
    "ix) copy(): This function allows the user to return a copy of a list that is independant from the original\n",
    "-This means you can change it without ruining the initial list-"
   ]
  },
  {
   "cell_type": "code",
   "execution_count": 20,
   "id": "a6036ffc",
   "metadata": {},
   "outputs": [
    {
     "data": {
      "text/plain": [
       "[42, 2, 49, 48, 48, 50, 32, 13, 11, 17]"
      ]
     },
     "execution_count": 20,
     "metadata": {},
     "output_type": "execute_result"
    }
   ],
   "source": [
    "n=numbers1.copy()\n",
    "n"
   ]
  },
  {
   "cell_type": "code",
   "execution_count": 21,
   "id": "3d2e69a8",
   "metadata": {},
   "outputs": [
    {
     "data": {
      "text/plain": [
       "[2, 11, 13, 17, 32, 42, 48, 48, 49, 50]"
      ]
     },
     "execution_count": 21,
     "metadata": {},
     "output_type": "execute_result"
    }
   ],
   "source": [
    "n.sort() # I told you not to use sort but I can this time because it won't affect the original\n",
    "n"
   ]
  },
  {
   "cell_type": "markdown",
   "id": "263ffe11",
   "metadata": {},
   "source": [
    "x) clear(): This special function allows the user the ability to erase all of the items in a list"
   ]
  },
  {
   "cell_type": "code",
   "execution_count": 22,
   "id": "f5d0487c",
   "metadata": {},
   "outputs": [
    {
     "data": {
      "text/plain": [
       "[]"
      ]
     },
     "execution_count": 22,
     "metadata": {},
     "output_type": "execute_result"
    }
   ],
   "source": [
    "n.clear() #the result is an empty list:(\n",
    "n"
   ]
  },
  {
   "cell_type": "markdown",
   "id": "e2489444",
   "metadata": {},
   "source": [
    "xi) any():The function 'any()' returns a 'True' result if any element in the list is True."
   ]
  },
  {
   "cell_type": "code",
   "execution_count": 23,
   "id": "298c380e",
   "metadata": {},
   "outputs": [
    {
     "data": {
      "text/plain": [
       "True"
      ]
     },
     "execution_count": 23,
     "metadata": {},
     "output_type": "execute_result"
    }
   ],
   "source": [
    "luck=[True,False,True,False]\n",
    "any(luck)"
   ]
  },
  {
   "cell_type": "markdown",
   "id": "5727c7ce",
   "metadata": {},
   "source": [
    "xii) filter():This function creates a list of elements for which a function returns true. It makes more sense to me when said the following way- The filter() function forms a new list that contains only elements that satisfy a certain (created) condition."
   ]
  },
  {
   "cell_type": "markdown",
   "id": "e7f1fefe",
   "metadata": {},
   "source": [
    "We must first create a function to filter our list through. I will do less_ten()."
   ]
  },
  {
   "cell_type": "code",
   "execution_count": 25,
   "id": "4259b510",
   "metadata": {},
   "outputs": [
    {
     "name": "stdout",
     "output_type": "stream",
     "text": [
      "[13, 16, 16, 14, 5, 2, 12, 8, 10, 4]\n"
     ]
    }
   ],
   "source": [
    "import random\n",
    "def less_ten(x):\n",
    "    if x<10:\n",
    "        return x\n",
    "numbers_new=[random.randrange(1,20) for i in range(10)]\n",
    "print (numbers_new)"
   ]
  },
  {
   "cell_type": "code",
   "execution_count": 26,
   "id": "73b9483e",
   "metadata": {},
   "outputs": [
    {
     "name": "stdout",
     "output_type": "stream",
     "text": [
      "filter [5, 2, 8, 4]\n"
     ]
    }
   ],
   "source": [
    "print(\"filter\", list(filter(less_ten,numbers_new))) #The newly created list now only includes the numbers <10"
   ]
  },
  {
   "cell_type": "markdown",
   "id": "1e55b0fd",
   "metadata": {},
   "source": [
    "xiii) list(): Lists are used to store multiple items in a single variable. These variables of stored data are created using square brackets ex: List=[]"
   ]
  },
  {
   "cell_type": "code",
   "execution_count": 28,
   "id": "d19460cb",
   "metadata": {},
   "outputs": [
    {
     "data": {
      "text/plain": [
       "list"
      ]
     },
     "execution_count": 28,
     "metadata": {},
     "output_type": "execute_result"
    }
   ],
   "source": [
    "list2=[]\n",
    "type (list2) #This shows that we have created an empty list"
   ]
  },
  {
   "cell_type": "markdown",
   "id": "c9dd6b1b",
   "metadata": {},
   "source": [
    "xiv) map():This applies a function to all the items in an input_list. The function is typed like so-map(function_to_apply, list_of_inputs). This allows you to process and transform all the items in an iterable without using an explicit for loop."
   ]
  },
  {
   "cell_type": "markdown",
   "id": "29397fa0",
   "metadata": {},
   "source": [
    "A better explanation of what I described above is that this function will alter the items within the iterable that don't meet the condition instead of getting rid of them like filter() does. #I will use the same example as filter() above but I will use the map() function on it."
   ]
  },
  {
   "cell_type": "code",
   "execution_count": 29,
   "id": "1db54d44",
   "metadata": {},
   "outputs": [
    {
     "name": "stdout",
     "output_type": "stream",
     "text": [
      "map result [None, None, None, None, 5, 2, None, 8, None, 4]\n"
     ]
    }
   ],
   "source": [
    "print(\"map result\", list(map(less_ten,numbers_new))) \n",
    "#you can see that this generates 'None' in place of the failed items"
   ]
  },
  {
   "cell_type": "markdown",
   "id": "4a8bce42",
   "metadata": {},
   "source": [
    "# b. Tuples"
   ]
  },
  {
   "cell_type": "markdown",
   "id": "e100765a",
   "metadata": {},
   "source": [
    "i) cmp():This function allows you to compare two integers or in this case, data sets."
   ]
  },
  {
   "cell_type": "code",
   "execution_count": 30,
   "id": "42ab4578",
   "metadata": {},
   "outputs": [
    {
     "data": {
      "text/plain": [
       "[3, 2, 37, 33, 26, 18, 8, 9, 13, 32]"
      ]
     },
     "execution_count": 30,
     "metadata": {},
     "output_type": "execute_result"
    }
   ],
   "source": [
    "temp_list=[random.randrange(1,51) for i in range(10)]\n",
    "temp_list"
   ]
  },
  {
   "cell_type": "code",
   "execution_count": 31,
   "id": "54d809bc",
   "metadata": {},
   "outputs": [
    {
     "name": "stdout",
     "output_type": "stream",
     "text": [
      "(3, 2, 37, 33, 26, 18, 8, 9, 13, 32)\n",
      "<class 'tuple'>\n"
     ]
    }
   ],
   "source": [
    "tuple_uno=(tuple(temp_list))#This was the first thing I thought of to quickly random generate a tuple set\n",
    "print (tuple_uno)\n",
    "print(type(tuple_uno))"
   ]
  },
  {
   "cell_type": "code",
   "execution_count": 32,
   "id": "c55cf696",
   "metadata": {},
   "outputs": [
    {
     "name": "stdout",
     "output_type": "stream",
     "text": [
      "(8, 3, 2, 37, 33, 26, 18, 9, 13, 32)\n"
     ]
    }
   ],
   "source": [
    "tuple_2=(8,3,2,37,33,26,18,9,13,32)\n",
    "print (tuple_2)"
   ]
  },
  {
   "cell_type": "code",
   "execution_count": 38,
   "id": "d93aa30e",
   "metadata": {},
   "outputs": [
    {
     "ename": "SyntaxError",
     "evalue": "invalid syntax (<ipython-input-38-ba11885adf76>, line 1)",
     "output_type": "error",
     "traceback": [
      "\u001b[0;36m  File \u001b[0;32m\"<ipython-input-38-ba11885adf76>\"\u001b[0;36m, line \u001b[0;32m1\u001b[0m\n\u001b[0;31m    import cmp()\u001b[0m\n\u001b[0m              ^\u001b[0m\n\u001b[0;31mSyntaxError\u001b[0m\u001b[0;31m:\u001b[0m invalid syntax\n"
     ]
    }
   ],
   "source": [
    "\n",
    "print cmp(tuple_uno, tuple_2)\n",
    "#I can't seem to get it to work but it is simply meant to return a '1', '0', '-1' depending on \n",
    "#whether the first or second tuple is bigger "
   ]
  },
  {
   "cell_type": "markdown",
   "id": "67b4951e",
   "metadata": {},
   "source": [
    "ii) len(): This function gives the user a way to quickly calculate the number of items in a storage set."
   ]
  },
  {
   "cell_type": "code",
   "execution_count": 34,
   "id": "d15b6f92",
   "metadata": {},
   "outputs": [
    {
     "name": "stdout",
     "output_type": "stream",
     "text": [
      "10\n"
     ]
    }
   ],
   "source": [
    "print (len(tuple_2))#as you can see above there are 10 items in tuple_2"
   ]
  },
  {
   "cell_type": "markdown",
   "id": "07d3e374",
   "metadata": {},
   "source": [
    "iii) max(): This funcion allows you to quickly generate the item with the highest value in a data set."
   ]
  },
  {
   "cell_type": "code",
   "execution_count": 36,
   "id": "5ec14fc1",
   "metadata": {},
   "outputs": [
    {
     "name": "stdout",
     "output_type": "stream",
     "text": [
      "37\n"
     ]
    }
   ],
   "source": [
    "print (max(tuple_2))"
   ]
  },
  {
   "cell_type": "markdown",
   "id": "bf0dae8b",
   "metadata": {},
   "source": [
    "iv) tuple(seq): This function allows for a list to quickly be turned into a tuple."
   ]
  },
  {
   "cell_type": "code",
   "execution_count": 39,
   "id": "73aa2587",
   "metadata": {},
   "outputs": [
    {
     "name": "stdout",
     "output_type": "stream",
     "text": [
      "(1, 2, 3, 4)\n"
     ]
    }
   ],
   "source": [
    "lis1=[1,2,3,4]#I created a list and demonstrated the process needed for this function to make it a tuple\n",
    "tup1=tuple(lis1)\n",
    "print (tup1)"
   ]
  },
  {
   "cell_type": "code",
   "execution_count": null,
   "id": "d2574f16",
   "metadata": {},
   "outputs": [],
   "source": []
  }
 ],
 "metadata": {
  "kernelspec": {
   "display_name": "Python 3",
   "language": "python",
   "name": "python3"
  },
  "language_info": {
   "codemirror_mode": {
    "name": "ipython",
    "version": 3
   },
   "file_extension": ".py",
   "mimetype": "text/x-python",
   "name": "python",
   "nbconvert_exporter": "python",
   "pygments_lexer": "ipython3",
   "version": "3.8.8"
  }
 },
 "nbformat": 4,
 "nbformat_minor": 5
}
